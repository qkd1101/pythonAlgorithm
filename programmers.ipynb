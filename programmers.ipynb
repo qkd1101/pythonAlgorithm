{
 "cells": [
  {
   "cell_type": "markdown",
   "metadata": {},
   "source": [
    "# 프로그래머스 코딩테스트 연습"
   ]
  },
  {
   "cell_type": "markdown",
   "metadata": {},
   "source": [
    "## LV2"
   ]
  },
  {
   "cell_type": "markdown",
   "metadata": {},
   "source": [
    "### 기능개발 - stack 사용"
   ]
  },
  {
   "cell_type": "code",
   "execution_count": 9,
   "metadata": {},
   "outputs": [
    {
     "name": "stdout",
     "output_type": "stream",
     "text": [
      "deque([5, 10, 1, 1, 20, 1])\n"
     ]
    },
    {
     "data": {
      "text/plain": [
       "[]"
      ]
     },
     "execution_count": 9,
     "metadata": {},
     "output_type": "execute_result"
    }
   ],
   "source": [
    "from collections import deque\n",
    "import math\n",
    "\n",
    "def solution(progresses, speeds):\n",
    "    answer = []\n",
    "    list = deque()\n",
    "    stack = deque()\n",
    "    cnt = 0\n",
    "\n",
    "    for i in range(len(progresses)):\n",
    "        list.append(math.ceil((100 - progresses[i])/speeds[i]))\n",
    "    stack.append(list.popleft())\n",
    "\n",
    "    while list:\n",
    "        if stack[0] >= list[0]:\n",
    "            stack.append(list.popleft())\n",
    "            continue\n",
    "        else :\n",
    "            while stack:\n",
    "                cnt += 1\n",
    "                stack.pop()\n",
    "            answer.append(cnt)\n",
    "            cnt = 0\n",
    "            stack.append(list.popleft())\n",
    "    while stack:\n",
    "        cnt += 1\n",
    "        stack.pop()\n",
    "    answer.append(cnt)\n",
    "    cnt = 0\n",
    "\n",
    "    return answer"
   ]
  },
  {
   "cell_type": "markdown",
   "metadata": {},
   "source": [
    "### 프린터"
   ]
  },
  {
   "cell_type": "code",
   "execution_count": null,
   "metadata": {},
   "outputs": [],
   "source": [
    "from collections import deque\n",
    "\n",
    "def solution(priorities, location):\n",
    "    answer = 0\n",
    "    list = deque()\n",
    "    job = deque()\n",
    "    for i in range(len(priorities)) : job.append(i)\n",
    "    while priorities:\n",
    "        flag = 0\n",
    "        p = priorities.pop(0)\n",
    "        j = job.popleft()\n",
    "        for k in priorities:\n",
    "            if k > p:\n",
    "                flag = 1\n",
    "                priorities.append(p)\n",
    "                job.append(j)\n",
    "                break\n",
    "        if flag == 0:\n",
    "            list.append(j)\n",
    "    \n",
    "    answer = list.index(location) + 1\n",
    "\n",
    "    return answer\n",
    "\n",
    "solution([2, 1, 3, 2],2)"
   ]
  }
 ],
 "metadata": {
  "kernelspec": {
   "display_name": "Python 3 (ipykernel)",
   "language": "python",
   "name": "python3"
  },
  "language_info": {
   "codemirror_mode": {
    "name": "ipython",
    "version": 3
   },
   "file_extension": ".py",
   "mimetype": "text/x-python",
   "name": "python",
   "nbconvert_exporter": "python",
   "pygments_lexer": "ipython3",
   "version": "3.9.7"
  },
  "orig_nbformat": 4
 },
 "nbformat": 4,
 "nbformat_minor": 2
}
