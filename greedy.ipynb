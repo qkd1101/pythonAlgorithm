{
 "cells": [
  {
   "cell_type": "markdown",
   "source": [
    "# Greedy Algorithm"
   ],
   "metadata": {}
  },
  {
   "cell_type": "markdown",
   "source": [
    "Feasibility Analysis"
   ],
   "metadata": {}
  },
  {
   "cell_type": "markdown",
   "source": [
    "### 1. 1이 될때까지"
   ],
   "metadata": {}
  },
  {
   "cell_type": "code",
   "execution_count": 1,
   "source": [
    "n, k = map(int,input().split())\n",
    "\n",
    "count = 0\n",
    "while True:\n",
    "    if n%k != 0:\n",
    "        n -= 1\n",
    "        count += 1\n",
    "    else:\n",
    "        n /= k\n",
    "        count += 1\n",
    "        if n == 2:\n",
    "            count += 1\n",
    "            break\n",
    "        elif n == 1:\n",
    "            break\n",
    "    \n",
    "print(count, '번')\n"
   ],
   "outputs": [],
   "metadata": {}
  },
  {
   "cell_type": "markdown",
   "source": [
    "주어진 N에 대하여 최대한 많은 나누기를 진행, 안나누어지면 1을 뺌."
   ],
   "metadata": {}
  },
  {
   "cell_type": "markdown",
   "source": [
    "> 정당성 분석 : N이 아무리 큰 수여도, K로 계속 나누면 기하급수적으로 줄일 수 있음."
   ],
   "metadata": {}
  },
  {
   "cell_type": "code",
   "execution_count": null,
   "source": [
    "#improvement code\n",
    "\n",
    "n, k = map(int,input().split())\n",
    "\n",
    "count = 0\n",
    "while True:\n",
    "    target = (n//k)*k\n",
    "    count += (n-target)\n",
    "    n = target\n",
    "    if n<k:\n",
    "        break\n",
    "    count += 1\n",
    "    n //= k\n",
    "    \n",
    "count += (n-1)\n",
    "print(count, '번')\n"
   ],
   "outputs": [],
   "metadata": {}
  },
  {
   "cell_type": "markdown",
   "source": [
    "위의 코드는 반복문 마다 N을 나누는 수행이된다. -> log 시간 복잡도를 가지게됨."
   ],
   "metadata": {}
  },
  {
   "cell_type": "markdown",
   "source": [
    "### 2. 곱하기 혹은 더하기"
   ],
   "metadata": {}
  },
  {
   "cell_type": "code",
   "execution_count": null,
   "source": [
    "s =  list(input())\n",
    "res = 0\n",
    "for k in s:\n",
    "    if res == 0 or k == '0' or k == '1': ## k <= 1 하면 되는데\n",
    "        res += int(k)\n",
    "    else:\n",
    "        res *= int(k)\n",
    "print(res)"
   ],
   "outputs": [],
   "metadata": {}
  },
  {
   "cell_type": "markdown",
   "source": [
    "대부분은 X가 더 큰 수가 나오게 됨. 하지만 0 혹은 1이라면 더하기가 더 효율적."
   ],
   "metadata": {}
  },
  {
   "cell_type": "code",
   "execution_count": null,
   "source": [
    "#improvement\n",
    "\n",
    "data = input()\n",
    "\n",
    "result = int(data[0])\n",
    "\n",
    "for i in range(1,len(data)):\n",
    "    num = int(data[i])\n",
    "    if num <= 1 or result <= 1:\n",
    "        result += num\n",
    "    else:\n",
    "        result *= num\n",
    "\n",
    "print(result)"
   ],
   "outputs": [],
   "metadata": {}
  },
  {
   "cell_type": "code",
   "execution_count": null,
   "source": [
    "s =  list(input())\n",
    "res = 0\n",
    "\n",
    "if min(s)== '0' or min(s) == '1':\n",
    "    res += int(min(s)) + int(max(s))\n",
    "    for i in s:\n",
    "        if i == min(s) or i == max(s):\n",
    "            continue\n",
    "        res *= int(i)\n",
    "else:\n",
    "    res += int(min(s))\n",
    "    for i in s:\n",
    "        if i == min(s):\n",
    "            continue\n",
    "        res *= int(i)\n",
    "\n",
    "print(res)\n"
   ],
   "outputs": [],
   "metadata": {}
  },
  {
   "cell_type": "markdown",
   "source": [
    "### 3. 모험가 길드 "
   ],
   "metadata": {}
  },
  {
   "cell_type": "code",
   "execution_count": null,
   "source": [
    "n = int(input())\n",
    "m = list(map(int,input().split()))\n",
    "res = 0\n",
    "target = 0\n",
    "\n",
    "m = sorted(m, reverse = False)\n",
    "\n",
    "while True:\n",
    "    if 0 >= n:\n",
    "        break\n",
    "    if n < max(m[target:target+m[target]+1]):\n",
    "        break\n",
    "    n -= m[target]\n",
    "    target += m[target]\n",
    "    res += 1\n",
    "\n",
    "print(res)"
   ],
   "outputs": [],
   "metadata": {}
  },
  {
   "cell_type": "markdown",
   "source": [
    "최대를 구하기에 오름차순, 최소를 구하려면 내림차순을 썼을듯."
   ],
   "metadata": {}
  },
  {
   "cell_type": "code",
   "execution_count": null,
   "source": [
    "#improvement\n",
    "\n",
    "n = int(input())\n",
    "data = list(map(int,input.split()))\n",
    "data.sort()\n",
    "\n",
    "result = 0\n",
    "count = 0\n",
    "\n",
    "for i in data:\n",
    "    count += 1\n",
    "    if count >= i:\n",
    "        result += 1\n",
    "        count = 0\n",
    "\n",
    "print(result)"
   ],
   "outputs": [],
   "metadata": {}
  }
 ],
 "metadata": {
  "orig_nbformat": 4,
  "kernelspec": {
   "name": "python3",
   "display_name": "Python 3 (ipykernel)",
   "language": "python"
  },
  "language_info": {
   "name": "python",
   "version": "3.9.7",
   "mimetype": "text/x-python",
   "codemirror_mode": {
    "name": "ipython",
    "version": 3
   },
   "pygments_lexer": "ipython3",
   "nbconvert_exporter": "python",
   "file_extension": ".py"
  }
 },
 "nbformat": 4,
 "nbformat_minor": 2
}