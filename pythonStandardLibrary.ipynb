{
 "cells": [
  {
   "cell_type": "markdown",
   "source": [
    "# Phython Standard Library"
   ],
   "metadata": {}
  },
  {
   "cell_type": "markdown",
   "source": [
    "## 1. Python inner function"
   ],
   "metadata": {}
  },
  {
   "cell_type": "code",
   "execution_count": 2,
   "source": [
    "#sum()\n",
    "res = sum([0,1,2,3])\n",
    "print(res)\n",
    "\n",
    "#min(), max()\n",
    "res_min = min([1,2,3,4])\n",
    "res_max = max([1,2,3,4])\n",
    "print(res_min, res_max)\n",
    "\n",
    "#eval\n",
    "res_eval = eval(\"(3+5)*7\")\n",
    "print(res_eval)\n",
    "\n",
    "#sorted()\n",
    "res_sort = sorted([9,4,2,3,1])\n",
    "res_sort_reversed = sorted([9,4,2,3,1], reverse=True)\n",
    "print(res_sort)\n",
    "print(res_sort_reversed)\n",
    "\n",
    "#sorted() with key\n",
    "arr = [('A',70),('B',30),('C',40)]\n",
    "res_sort_key = sorted(arr, key = lambda x: x[1], reverse =False)\n",
    "res_sort_key2 = sorted(arr, key = lambda x: x[0], reverse = False)\n",
    "print(res_sort_key)\n",
    "print(res_sort_key2)"
   ],
   "outputs": [
    {
     "output_type": "stream",
     "name": "stdout",
     "text": [
      "6\n",
      "1 4\n",
      "7\n",
      "[1, 2, 3, 4, 9]\n",
      "[9, 4, 3, 2, 1]\n",
      "[('B', 30), ('C', 40), ('A', 70)]\n",
      "[('A', 70), ('B', 30), ('C', 40)]\n"
     ]
    }
   ],
   "metadata": {}
  },
  {
   "cell_type": "markdown",
   "source": [
    "## 2. Permutations/ combinations"
   ],
   "metadata": {}
  },
  {
   "cell_type": "markdown",
   "source": [
    "> use in considering all case"
   ],
   "metadata": {}
  },
  {
   "cell_type": "code",
   "execution_count": 28,
   "source": [
    "from itertools import permutations\n",
    "from itertools import combinations\n",
    "\n",
    "data = ['A','B','C']\n",
    "\n",
    "result_permutations = list(permutations(data))   #result = list(permutations(data,2))\n",
    "result_combinations = list(combinations(data,2)) #result_combinations = list(combinations(data)) \n",
    "\n",
    "print(result_permutations)\n",
    "print(result_combinations)"
   ],
   "outputs": [
    {
     "output_type": "stream",
     "name": "stdout",
     "text": [
      "[('A', 'B', 'C'), ('A', 'C', 'B'), ('B', 'A', 'C'), ('B', 'C', 'A'), ('C', 'A', 'B'), ('C', 'B', 'A')]\n",
      "[('A', 'B'), ('A', 'C'), ('B', 'C')]\n"
     ]
    }
   ],
   "metadata": {}
  },
  {
   "cell_type": "markdown",
   "source": [
    "### permutation/combination with repetition"
   ],
   "metadata": {}
  },
  {
   "cell_type": "code",
   "execution_count": 40,
   "source": [
    "from itertools import product\n",
    "from itertools import combinations_with_replacement\n",
    "\n",
    "data = ['A','B','C']\n",
    "\n",
    "result = list(product(data,repeat = 2)) #permutation\n",
    "print(result)\n",
    "\n",
    "result_combination = list(combinations_with_replacement(data,2))\n",
    "print(result_combination)"
   ],
   "outputs": [
    {
     "output_type": "stream",
     "name": "stdout",
     "text": [
      "[('A', 'A'), ('A', 'B'), ('A', 'C'), ('B', 'A'), ('B', 'B'), ('B', 'C'), ('C', 'A'), ('C', 'B'), ('C', 'C')]\n",
      "[('A', 'A'), ('A', 'B'), ('A', 'C'), ('B', 'B'), ('B', 'C'), ('C', 'C')]\n"
     ]
    }
   ],
   "metadata": {}
  },
  {
   "cell_type": "markdown",
   "source": [
    "## 3. Counter"
   ],
   "metadata": {}
  },
  {
   "cell_type": "code",
   "execution_count": 42,
   "source": [
    "from collections import Counter\n",
    "\n",
    "counter = Counter(['A','B','C','B'])\n",
    "\n",
    "print(counter['A'])\n",
    "print(counter['B'])\n",
    "print(dict(counter))"
   ],
   "outputs": [
    {
     "output_type": "stream",
     "name": "stdout",
     "text": [
      "1\n",
      "2\n",
      "{'A': 1, 'B': 2, 'C': 1}\n"
     ]
    }
   ],
   "metadata": {}
  },
  {
   "cell_type": "markdown",
   "source": [
    "## 4. GCD/LCM ( Math )"
   ],
   "metadata": {}
  },
  {
   "cell_type": "code",
   "execution_count": 44,
   "source": [
    "import math\n",
    "\n",
    "def lcm(a, b):\n",
    "    return a * b // math.gcd(a,b)\n",
    "\n",
    "a = 7\n",
    "b = 98\n",
    "\n",
    "print(math.gcd(a,b))\n",
    "print(lcm(a,b))"
   ],
   "outputs": [
    {
     "output_type": "stream",
     "name": "stdout",
     "text": [
      "7\n",
      "98\n"
     ]
    }
   ],
   "metadata": {}
  },
  {
   "cell_type": "code",
   "execution_count": null,
   "source": [],
   "outputs": [],
   "metadata": {}
  }
 ],
 "metadata": {
  "orig_nbformat": 4,
  "kernelspec": {
   "name": "python3",
   "display_name": "Python 3 (ipykernel)",
   "language": "python"
  },
  "language_info": {
   "name": "python",
   "version": "3.9.7",
   "mimetype": "text/x-python",
   "codemirror_mode": {
    "name": "ipython",
    "version": 3
   },
   "pygments_lexer": "ipython3",
   "nbconvert_exporter": "python",
   "file_extension": ".py"
  }
 },
 "nbformat": 4,
 "nbformat_minor": 2
}